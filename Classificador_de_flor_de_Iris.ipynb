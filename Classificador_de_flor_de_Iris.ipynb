{
  "nbformat": 4,
  "nbformat_minor": 0,
  "metadata": {
    "colab": {
      "name": "Classificador_de_flor_de_Iris.ipynb",
      "provenance": [],
      "mount_file_id": "https://github.com/johnsontavares/Classifica-o-de-esp-cies-de-Iris/blob/main/Untitled1.ipynb",
      "authorship_tag": "ABX9TyOm1YPx/5Z8vOuU0iAuj2F4",
      "include_colab_link": true
    },
    "kernelspec": {
      "name": "python3",
      "display_name": "Python 3"
    }
  },
  "cells": [
    {
      "cell_type": "markdown",
      "metadata": {
        "id": "view-in-github",
        "colab_type": "text"
      },
      "source": [
        "<a href=\"https://colab.research.google.com/github/johnsontavares/Classifica-o-de-esp-cies-de-Iris/blob/main/Classificador_de_flor_de_Iris.ipynb\" target=\"_parent\"><img src=\"https://colab.research.google.com/assets/colab-badge.svg\" alt=\"Open In Colab\"/></a>"
      ]
    },
    {
      "cell_type": "code",
      "metadata": {
        "id": "kIvoH6RewNSI"
      },
      "source": [
        "import pandas as pd\n",
        "iris = 'http://archive.ics.uci.edu/ml/machine-learning-databases/iris/iris.data'\n",
        "df_treino = pd.read_csv(iris, sep=',')\n",
        "attributes = [\"sepal_length\", \"sepal_width\", \"petal_length\", \"petal_width\", \"class\"]\n",
        "df_treino.columns = attributes\n",
        "display(df_treino)"
      ],
      "execution_count": null,
      "outputs": []
    },
    {
      "cell_type": "code",
      "metadata": {
        "id": "Khp-7T2-MR6Q"
      },
      "source": [
        "from sklearn import tree\n",
        "from sklearn.model_selection import train_test_split\n",
        "\n",
        "model = tree.DecisionTreeClassifier()\n",
        "\n",
        "model\n",
        "\n",
        "X_treino, X_teste, y_treino, y_teste = train_test_split(df_treino.drop('class', axis=1), df_treino['class'], test_size=0.3)\n",
        "#X_treino.shape, X_teste.shape\n",
        "\n",
        "X_teste"
      ],
      "execution_count": null,
      "outputs": []
    },
    {
      "cell_type": "code",
      "metadata": {
        "id": "lrP7G-WoMjHd"
      },
      "source": [
        "#X_treino = df_treino.iloc[:, :-1]\n",
        "#X_treino"
      ],
      "execution_count": null,
      "outputs": []
    },
    {
      "cell_type": "code",
      "metadata": {
        "id": "CLy4TwddOPbC"
      },
      "source": [
        "#y_treino = df_treino.iloc[:, -1]\n",
        "#y_treino"
      ],
      "execution_count": null,
      "outputs": []
    },
    {
      "cell_type": "code",
      "metadata": {
        "id": "aSeO7QSUOchd"
      },
      "source": [
        "model.fit(X_treino, y_treino)"
      ],
      "execution_count": null,
      "outputs": []
    },
    {
      "cell_type": "code",
      "metadata": {
        "colab": {
          "base_uri": "https://localhost:8080/"
        },
        "id": "9pawU1oRPB4F",
        "outputId": "99ddfe64-922e-42a2-ff48-2d96cb233533"
      },
      "source": [
        "model.feature_importances_"
      ],
      "execution_count": null,
      "outputs": [
        {
          "output_type": "execute_result",
          "data": {
            "text/plain": [
              "array([0.01370324, 0.01446453, 0.0762591 , 0.89557312])"
            ]
          },
          "metadata": {
            "tags": []
          },
          "execution_count": 8
        }
      ]
    },
    {
      "cell_type": "code",
      "metadata": {
        "id": "nL87Dme3PpQH"
      },
      "source": [
        "%matplotlib inline"
      ],
      "execution_count": null,
      "outputs": []
    },
    {
      "cell_type": "code",
      "metadata": {
        "id": "nAwp662vPRps"
      },
      "source": [
        "tree.plot_tree(model, filled=True, label='alsdfsl' );"
      ],
      "execution_count": null,
      "outputs": []
    },
    {
      "cell_type": "code",
      "metadata": {
        "id": "xJ1mEo1pQqv8"
      },
      "source": [
        "#df_teste = pd.DataFrame({\n",
        "#    'sepal_length' : [4.9, 6.7],\n",
        "#    'sepal_width' : [3.0, 3.0],\n",
        "#    'petal_length'\t: [1.4, 5.2],\n",
        "#    'petal_width'\t: [0.2, 2.3],\n",
        "#    'class' : ['Iris-setosa', 'Iris-virginica']\n",
        "#})\n",
        "#df_teste"
      ],
      "execution_count": null,
      "outputs": []
    },
    {
      "cell_type": "code",
      "metadata": {
        "id": "TpulfVgdSAEm"
      },
      "source": [
        "#X_teste = df_teste.iloc[:, :-1]\n",
        "#y_teste = df_teste.iloc[:, -1]\n",
        "display(X_teste)"
      ],
      "execution_count": null,
      "outputs": []
    },
    {
      "cell_type": "code",
      "metadata": {
        "id": "32dl92TGSQft"
      },
      "source": [
        "y_pred = model.predict(X_teste)\n",
        "y_pred"
      ],
      "execution_count": null,
      "outputs": []
    },
    {
      "cell_type": "code",
      "metadata": {
        "id": "bp9T3A0SSgu5"
      },
      "source": [
        "y_teste == y_pred"
      ],
      "execution_count": null,
      "outputs": []
    },
    {
      "cell_type": "code",
      "metadata": {
        "colab": {
          "base_uri": "https://localhost:8080/"
        },
        "id": "pCA3X0rsTPxp",
        "outputId": "e5d4c6e8-2d45-437f-80d2-1bb3574bcb09"
      },
      "source": [
        "from sklearn import metrics\n",
        "print(metrics.classification_report(y_teste, y_pred))"
      ],
      "execution_count": null,
      "outputs": [
        {
          "output_type": "stream",
          "text": [
            "                 precision    recall  f1-score   support\n",
            "\n",
            "    Iris-setosa       1.00      1.00      1.00        18\n",
            "Iris-versicolor       0.92      0.85      0.88        13\n",
            " Iris-virginica       0.87      0.93      0.90        14\n",
            "\n",
            "       accuracy                           0.93        45\n",
            "      macro avg       0.93      0.92      0.93        45\n",
            "   weighted avg       0.93      0.93      0.93        45\n",
            "\n"
          ],
          "name": "stdout"
        }
      ]
    },
    {
      "cell_type": "code",
      "metadata": {
        "id": "lI5ooNHvW1vu"
      },
      "source": [
        "import matplotlib.pyplot as plt\r\n",
        "\r\n",
        "\r\n",
        "plt.figure(figsize=(40,40))\r\n",
        "tree.plot_tree(model, filled=True, fontsize=42)\r\n",
        "plt.savefig(\"arvore_decisao1.png\")\r\n",
        "plt.close()"
      ],
      "execution_count": null,
      "outputs": []
    },
    {
      "cell_type": "code",
      "metadata": {
        "colab": {
          "base_uri": "https://localhost:8080/"
        },
        "id": "PxCSFkFclyCL",
        "outputId": "ed055d84-5dad-429d-b978-75ae0f0b7f99"
      },
      "source": [
        "from sklearn.metrics import confusion_matrix\r\n",
        "\r\n",
        "print(confusion_matrix(y_pred,y_teste))"
      ],
      "execution_count": null,
      "outputs": [
        {
          "output_type": "stream",
          "text": [
            "[[18  0  0]\n",
            " [ 0 11  1]\n",
            " [ 0  2 13]]\n"
          ],
          "name": "stdout"
        }
      ]
    }
  ]
}